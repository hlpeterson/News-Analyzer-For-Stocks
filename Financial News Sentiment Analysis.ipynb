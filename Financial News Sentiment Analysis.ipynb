{
 "cells": [
  {
   "cell_type": "code",
   "execution_count": 2,
   "id": "79f786a5",
   "metadata": {},
   "outputs": [],
   "source": [
    "%matplotlib inline\n",
    "import matplotlib.pyplot as plt\n",
    "import seaborn as sns; sns.set()\n",
    "import pandas as pd\n",
    "from dotenv import load_dotenv\n",
    "import os\n",
    "from sklearn.model_selection import train_test_split\n",
    "from sklearn.naive_bayes import MultinomialNB\n",
    "from sklearn.pipeline import make_pipeline\n",
    "from sklearn.feature_extraction.text import TfidfVectorizer\n",
    "from sklearn.metrics import confusion_matrix\n",
    "from sklearn.model_selection import cross_val_score\n",
    "import numpy as np"
   ]
  },
  {
   "cell_type": "code",
   "execution_count": 3,
   "id": "cf1f908e",
   "metadata": {},
   "outputs": [],
   "source": [
    "df = pd.read_csv('/Users/hunterpeterson/Downloads/constituents_csv.csv')\n",
    "sentiment_df = pd.read_csv('/Users/hunterpeterson/Downloads/archive/all-data.csv', encoding='ISO-8859-1', names=['Sentiment', 'Headline'])"
   ]
  },
  {
   "cell_type": "code",
   "execution_count": 4,
   "id": "aa06b6e4",
   "metadata": {},
   "outputs": [],
   "source": [
    "y = sentiment_df['Sentiment']\n",
    "x = sentiment_df['Headline']\n",
    "\n",
    "x_train,x_test,y_train,y_test=train_test_split(x,y,test_size=0.2)\n",
    "\n",
    "model = make_pipeline(TfidfVectorizer(), MultinomialNB())\n",
    "\n",
    "model.fit(x_train, y_train)\n",
    "\n",
    "labels = model.predict(x_test)"
   ]
  },
  {
   "cell_type": "code",
   "execution_count": 5,
   "id": "5008269e",
   "metadata": {},
   "outputs": [
    {
     "data": {
      "text/plain": [
       "<AxesSubplot:xlabel='Predicted', ylabel='Actual'>"
      ]
     },
     "execution_count": 5,
     "metadata": {},
     "output_type": "execute_result"
    },
    {
     "data": {
      "image/png": "[encoded data removed]",
      "text/plain": [
       "<Figure size 720x504 with 2 Axes>"
      ]
     },
     "metadata": {},
     "output_type": "display_data"
    }
   ],
   "source": [
    "mat = confusion_matrix(y_test, labels)\n",
    "\n",
    "df_hm = pd.DataFrame(mat, columns=np.unique(y_test), index=np.unique(labels))\n",
    "df_hm.index.name = 'Actual'\n",
    "df_hm.columns.name = 'Predicted'\n",
    "plt.figure(figsize = (10, 7))\n",
    "sns.set(font_scale=1.4)\n",
    "sns.heatmap(df_hm, cmap=\"Blues\", annot=True,annot_kws={\"size\": 16})"
   ]
  },
  {
   "cell_type": "code",
   "execution_count": null,
   "id": "0e5821bd",
   "metadata": {},
   "outputs": [],
   "source": []
  },
  {
   "cell_type": "code",
   "execution_count": 6,
   "id": "2d7303b9",
   "metadata": {},
   "outputs": [
    {
     "data": {
      "text/plain": [
       "0.6508325088038471"
      ]
     },
     "execution_count": 6,
     "metadata": {},
     "output_type": "execute_result"
    }
   ],
   "source": [
    "scores = cross_val_score(model, x, y, cv=5)\n",
    "scores.mean()"
   ]
  },
  {
   "cell_type": "code",
   "execution_count": 7,
   "id": "9230f625",
   "metadata": {},
   "outputs": [],
   "source": [
    "from imblearn.datasets import make_imbalance"
   ]
  },
  {
   "cell_type": "code",
   "execution_count": 7,
   "id": "1e31ae5d",
   "metadata": {},
   "outputs": [
    {
     "name": "stdout",
     "output_type": "stream",
     "text": [
      "Collecting imbalanced-learn\n",
      "  Downloading imbalanced_learn-0.8.0-py3-none-any.whl (206 kB)\n",
      "\u001b[K     |████████████████████████████████| 206 kB 253 kB/s eta 0:00:01\n",
      "\u001b[?25hRequirement already satisfied: joblib>=0.11 in /Users/hunterpeterson/opt/anaconda3/lib/python3.8/site-packages (from imbalanced-learn) (1.0.1)\n",
      "Requirement already satisfied: scikit-learn>=0.24 in /Users/hunterpeterson/opt/anaconda3/lib/python3.8/site-packages (from imbalanced-learn) (0.24.1)\n",
      "Requirement already satisfied: numpy>=1.13.3 in /Users/hunterpeterson/opt/anaconda3/lib/python3.8/site-packages (from imbalanced-learn) (1.20.1)\n",
      "Requirement already satisfied: scipy>=0.19.1 in /Users/hunterpeterson/opt/anaconda3/lib/python3.8/site-packages (from imbalanced-learn) (1.6.2)\n",
      "Requirement already satisfied: threadpoolctl>=2.0.0 in /Users/hunterpeterson/opt/anaconda3/lib/python3.8/site-packages (from scikit-learn>=0.24->imbalanced-learn) (2.1.0)\n",
      "Installing collected packages: imbalanced-learn\n",
      "Successfully installed imbalanced-learn-0.8.0\n",
      "Note: you may need to restart the kernel to use updated packages.\n"
     ]
    }
   ],
   "source": [
    "pip install -U imbalanced-learn"
   ]
  },
  {
   "cell_type": "code",
   "execution_count": 8,
   "id": "d9045ee9",
   "metadata": {},
   "outputs": [],
   "source": [
    "from imblearn.datasets import make_imbalance"
   ]
  },
  {
   "cell_type": "code",
   "execution_count": 9,
   "id": "f97b1da1",
   "metadata": {},
   "outputs": [
    {
     "data": {
      "text/plain": [
       "neutral     2310\n",
       "positive    1068\n",
       "negative     498\n",
       "Name: Sentiment, dtype: int64"
      ]
     },
     "execution_count": 9,
     "metadata": {},
     "output_type": "execute_result"
    }
   ],
   "source": [
    "y_train.value_counts()"
   ]
  },
  {
   "cell_type": "code",
   "execution_count": 10,
   "id": "34601b94",
   "metadata": {},
   "outputs": [],
   "source": [
    "from sklearn.utils import resample\n",
    "df_neutral = sentiment_df[sentiment_df.Sentiment=='neutral']\n",
    "df_positive = sentiment_df[sentiment_df.Sentiment=='positive']\n",
    "df_negative = sentiment_df[sentiment_df.Sentiment=='negative']"
   ]
  },
  {
   "cell_type": "code",
   "execution_count": 11,
   "id": "edfcb47f",
   "metadata": {},
   "outputs": [],
   "source": [
    "df_neutral_downsampled = resample(df_neutral, replace=False, n_samples=604, random_state=0)\n",
    "df_positive_downsampled = resample(df_positive, replace=False, n_samples=604, random_state=0)"
   ]
  },
  {
   "cell_type": "code",
   "execution_count": 13,
   "id": "fbafe589",
   "metadata": {},
   "outputs": [
    {
     "data": {
      "text/plain": [
       "negative    604\n",
       "neutral     604\n",
       "positive    604\n",
       "Name: Sentiment, dtype: int64"
      ]
     },
     "execution_count": 13,
     "metadata": {},
     "output_type": "execute_result"
    }
   ],
   "source": [
    "df_downsampled = pd.concat([df_neutral_downsampled, df_positive_downsampled, df_negative])\n",
    "df_downsampled.Sentiment.value_counts()"
   ]
  },
  {
   "cell_type": "code",
   "execution_count": 14,
   "id": "c8973177",
   "metadata": {},
   "outputs": [
    {
     "data": {
      "text/plain": [
       "0.6357594021581967"
      ]
     },
     "execution_count": 14,
     "metadata": {},
     "output_type": "execute_result"
    }
   ],
   "source": [
    "x_2 = df_downsampled['Headline']\n",
    "y_2 = df_downsampled['Sentiment']\n",
    "\n",
    "scores = cross_val_score(model, x_2, y_2, cv=5)\n",
    "scores.mean()"
   ]
  },
  {
   "cell_type": "code",
   "execution_count": 15,
   "id": "6c13041c",
   "metadata": {},
   "outputs": [
    {
     "name": "stdout",
     "output_type": "stream",
     "text": [
      "0.6545231012081841\n"
     ]
    }
   ],
   "source": [
    "from sklearn.model_selection import RepeatedKFold\n",
    "cv = RepeatedKFold(n_splits=10, n_repeats=3, random_state=1)\n",
    "scores_2 = cross_val_score(model, x_2, y_2, cv=cv)\n",
    "print(scores_2.mean())"
   ]
  },
  {
   "cell_type": "code",
   "execution_count": null,
   "id": "3c202160",
   "metadata": {},
   "outputs": [],
   "source": []
  }
 ],
 "metadata": {
  "kernelspec": {
   "display_name": "Python 3",
   "language": "python",
   "name": "python3"
  },
  "language_info": {
   "codemirror_mode": {
    "name": "ipython",
    "version": 3
   },
   "file_extension": ".py",
   "mimetype": "text/x-python",
   "name": "python",
   "nbconvert_exporter": "python",
   "pygments_lexer": "ipython3",
   "version": "3.8.8"
  }
 },
 "nbformat": 4,
 "nbformat_minor": 5
}
